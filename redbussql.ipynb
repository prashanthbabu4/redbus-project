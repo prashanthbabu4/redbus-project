{
 "cells": [
  {
   "cell_type": "markdown",
   "id": "b101963a-3988-45b8-89dd-6a7684d8612e",
   "metadata": {},
   "source": [
    "# connect with sql"
   ]
  },
  {
   "cell_type": "code",
   "execution_count": 7,
   "id": "90293e60-5ab1-400e-a2ad-525b6c0af0ba",
   "metadata": {},
   "outputs": [],
   "source": [
    "import mysql.connector\n",
    "import pymysql\n",
    "import pandas as pd"
   ]
  },
  {
   "cell_type": "code",
   "execution_count": 28,
   "id": "b8e6d948-39f8-42eb-99d9-2ee50197f55a",
   "metadata": {},
   "outputs": [],
   "source": [
    "df=pd.read_csv('final_busdata.csv')\n",
    "\n"
   ]
  },
  {
   "cell_type": "code",
   "execution_count": 16,
   "id": "afe4992a-0e5c-4f74-8a64-14bda11910ef",
   "metadata": {},
   "outputs": [],
   "source": [
    "conn = mysql.connector.connect(\n",
    "    host=\"127.0.0.1\", \n",
    "    user=\"root\", \n",
    "    password=\"bike\", \n",
    "    database=\"bus\"\n",
    ")\n",
    "cursor = conn.cursor()\n"
   ]
  },
  {
   "cell_type": "markdown",
   "id": "dbf37988-8dfe-490a-bb3a-80c225acd0e5",
   "metadata": {},
   "source": [
    "# Create Table"
   ]
  },
  {
   "cell_type": "code",
   "execution_count": 19,
   "id": "34a6ce01-23ed-43c5-b7a6-f62e73d21b9b",
   "metadata": {},
   "outputs": [],
   "source": [
    "create = '''\n",
    "CREATE TABLE a (\n",
    "    state VARCHAR(50) NOT NULL,\n",
    "    route_name VARCHAR(100) NOT NULL,\n",
    "    route_link VARCHAR(255) NULL,  -- Assuming the route_link is a string or URL\n",
    "    busname VARCHAR(50) NOT NULL,\n",
    "    bustype VARCHAR(100) NOT NULL,\n",
    "    departing_time VARCHAR(50) NOT NULL,\n",
    "    duration VARCHAR(50) NOT NULL,\n",
    "    reaching_time VARCHAR(50) NOT NULL,\n",
    "    star_rating DECIMAL(3, 2) NULL,\n",
    "    price DECIMAL(10, 2) NULL,\n",
    "    seats_available INT NULL\n",
    ");\n",
    "'''\n"
   ]
  },
  {
   "cell_type": "code",
   "execution_count": 20,
   "id": "5519a7a6-a536-45ba-b8a2-b323f3061890",
   "metadata": {},
   "outputs": [],
   "source": [
    "cursor.execute(create)\n",
    "conn.commit()\n"
   ]
  },
  {
   "cell_type": "markdown",
   "id": "9875724e-7906-463e-8488-c0f6e5e983e1",
   "metadata": {},
   "source": [
    "# Insert Data"
   ]
  },
  {
   "cell_type": "code",
   "execution_count": 21,
   "id": "7010a56a-b511-4cfd-bf53-ba76b2ad0dc9",
   "metadata": {},
   "outputs": [],
   "source": [
    "insert = \"\"\" \n",
    "INSERT INTO a (state, route_name, route_link, busname, bustype, departing_time, duration, reaching_time, star_rating, price, seats_available) \n",
    "VALUES (%s, %s, %s, %s, %s, %s, %s, %s, %s, %s,%s)\n",
    "\"\"\"\n"
   ]
  },
  {
   "cell_type": "code",
   "execution_count": 38,
   "id": "ca30b0e1-2237-43f3-b5f7-0fd28de2a87a",
   "metadata": {},
   "outputs": [],
   "source": [
    "# Truncate the 'busname' column to fit within the database limit\n",
    "max_busname_length = 50  # Adjust this based on the column size in the DB\n",
    "df['busname'] = df['busname'].apply(lambda x: x[:max_busname_length] if isinstance(x, str) else x)\n",
    "\n",
    "# Then, insert the rows\n",
    "for index, row in df.iterrows():\n",
    "    # Convert the row to a tuple (ensure the order of columns matches the table schema)\n",
    "    row_data = (\n",
    "        row['state'], row['route_name'], row['route_link'], row['busname'], row['bustype'],\n",
    "        row['departing_time'], row['duration'], row['reaching_time'],\n",
    "        row['star_rating'], row['price'], row['seats_available']\n",
    "    )\n",
    "    \n",
    "    # Execute the INSERT query with the row data\n",
    "    cursor.execute(insert, row_data)\n",
    "\n",
    "# Commit the changes to the database\n",
    "conn.commit()\n",
    "\n",
    "# Close the connection\n",
    "cursor.close()\n",
    "conn.close()\n"
   ]
  },
  {
   "cell_type": "code",
   "execution_count": 36,
   "id": "50beb651-ef5d-4765-8727-1e7276ba4c53",
   "metadata": {},
   "outputs": [],
   "source": []
  },
  {
   "cell_type": "code",
   "execution_count": null,
   "id": "87aae442-a0cb-4344-8d6f-12128b59d307",
   "metadata": {},
   "outputs": [],
   "source": []
  },
  {
   "cell_type": "code",
   "execution_count": null,
   "id": "04d52993-5ee3-41ed-8bc4-11641476f393",
   "metadata": {},
   "outputs": [],
   "source": []
  },
  {
   "cell_type": "code",
   "execution_count": null,
   "id": "a16d5200-aa6d-418f-8b68-52717e698733",
   "metadata": {},
   "outputs": [],
   "source": []
  }
 ],
 "metadata": {
  "kernelspec": {
   "display_name": "Python 3 (ipykernel)",
   "language": "python",
   "name": "python3"
  },
  "language_info": {
   "codemirror_mode": {
    "name": "ipython",
    "version": 3
   },
   "file_extension": ".py",
   "mimetype": "text/x-python",
   "name": "python",
   "nbconvert_exporter": "python",
   "pygments_lexer": "ipython3",
   "version": "3.12.2"
  }
 },
 "nbformat": 4,
 "nbformat_minor": 5
}
